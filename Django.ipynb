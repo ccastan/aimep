{
 "metadata": {
  "name": "",
  "signature": "sha256:afdfd3bada64933cf0f856c5d1b7abdbc25ac5d6d5b2a6be69747b85be030fa2"
 },
 "nbformat": 3,
 "nbformat_minor": 0,
 "worksheets": [
  {
   "cells": [
    {
     "cell_type": "code",
     "collapsed": false,
     "input": [
      "import django\n",
      "print django.VERSION"
     ],
     "language": "python",
     "metadata": {},
     "outputs": [
      {
       "output_type": "stream",
       "stream": "stdout",
       "text": [
        "(1, 6, 2, 'final', 0)\n"
       ]
      }
     ],
     "prompt_number": 1
    },
    {
     "cell_type": "code",
     "collapsed": false,
     "input": [
      "cd C:\\Users\\Christophe\\Anaconda\\Scripts\\tutorial"
     ],
     "language": "python",
     "metadata": {},
     "outputs": [
      {
       "output_type": "stream",
       "stream": "stdout",
       "text": [
        "C:\\Users\\Christophe\\Anaconda\\Scripts\\tutorial\n"
       ]
      }
     ],
     "prompt_number": 16
    },
    {
     "cell_type": "code",
     "collapsed": false,
     "input": [
      "ls"
     ],
     "language": "python",
     "metadata": {},
     "outputs": [
      {
       "output_type": "stream",
       "stream": "stdout",
       "text": [
        " Le volume dans le lecteur C s'appelle OS\n",
        " Le num\u201aro de s\u201arie du volume est 48D1-FF51\n",
        "\n",
        " R\u201apertoire de C:\\Users\\Christophe\\Anaconda\\Scripts\\tutorial\n",
        "\n",
        "08-04-14  17:22    <DIR>          .\n",
        "08-04-14  17:22    <DIR>          ..\n",
        "08-04-14  17:22               251 manage.py\n",
        "08-04-14  17:28    <DIR>          tutorial\n",
        "               1 fichier(s)              251 octets\n",
        "               3 R\u201ap(s)  109.668.143.104 octets libres\n"
       ]
      }
     ],
     "prompt_number": 17
    },
    {
     "cell_type": "code",
     "collapsed": false,
     "input": [
      "!manage.py runserver"
     ],
     "language": "python",
     "metadata": {},
     "outputs": [
      {
       "output_type": "stream",
       "stream": "stderr",
       "text": [
        "Traceback (most recent call last):\n",
        "  File \"C:\\Users\\Christophe\\Anaconda\\Scripts\\tutorial\\manage.py\", line 8, in <module>\n",
        "    from django.core.management import execute_from_command_line\n",
        "ImportError: No module named django.core.management\n"
       ]
      }
     ],
     "prompt_number": 14
    },
    {
     "cell_type": "code",
     "collapsed": false,
     "input": [],
     "language": "python",
     "metadata": {},
     "outputs": []
    }
   ],
   "metadata": {}
  }
 ]
}
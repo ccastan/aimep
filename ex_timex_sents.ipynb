{
 "metadata": {
  "name": "",
  "signature": "sha256:1b53bcdb91b78d48352a2e271b237b496c1d08b42acc9bbbf965f3f9cca4cf1c"
 },
 "nbformat": 3,
 "nbformat_minor": 0,
 "worksheets": [
  {
   "cells": [
    {
     "cell_type": "heading",
     "level": 1,
     "metadata": {},
     "source": [
      "Function that returns only the sentences containing timex and the actual datetime contained"
     ]
    },
    {
     "cell_type": "code",
     "collapsed": false,
     "input": [
      "import nltk.data\n",
      "%run time_tag.ipynb\n",
      "\n",
      "def ex_timex_sents(text):\n",
      "    sent_detector = nltk.data.load('tokenizers/punkt/english.pickle')\n",
      "    sentences = sent_detector.tokenize(text.strip())\n",
      "    tag_sents = []\n",
      "    \n",
      "    for s in sentences:\n",
      "        tag_sent = tag(s)\n",
      "        if tag_sent[1] == True:\n",
      "            tag_sent = ground(tag_sent[0], mxDateTime.now())\n",
      "            tag_sents.append(tag_sent)\n",
      "    \n",
      "    return tag_sents"
     ],
     "language": "python",
     "metadata": {},
     "outputs": [],
     "prompt_number": 6
    },
    {
     "cell_type": "heading",
     "level": 3,
     "metadata": {},
     "source": [
      "test"
     ]
    },
    {
     "cell_type": "code",
     "collapsed": false,
     "input": [
      "data =\"\"\"\n",
      "Hello Philippe,\n",
      "\n",
      "Attached you will find the latest layout for print'' wages'' ... gage side there will add a sentence style can also be used as a fold or face.\n",
      "\n",
      "When do you think we can deliver a display with some CuCu in their packaging?\n",
      "Mario asked a saleswoman layout, style property, he can show to their business meeting on Monday 3/9 and can transmit Cropper asking to broadcast their network of stores.\n",
      "\n",
      "Would not it be helpful to send some finished CuCu at Universal Concept Friday 31 (3 meeting on Monday!)\n",
      "\n",
      "If you can make me a display with CuCu on Wednesday ... it would top because I can possibly do to make a display of shooting, and product CuCu next Thursday, and put everything in page Friday to send to Mario.\n",
      "\n",
      "How can we do to integrate printed with guarantee if I already sent in a dozen FR & NL for Monday noon?\n",
      "48 FR wages & NL you reach the middle of next week.\n",
      "\"\"\"\n",
      "\n",
      "#print \"\\n--------\\n\".join(ex_timex_sents(data))"
     ],
     "language": "python",
     "metadata": {},
     "outputs": [
      {
       "output_type": "stream",
       "stream": "stdout",
       "text": [
        "Mario asked a saleswoman layout, style property, he can show to their business meeting on <TIMEX2 val=\"UNKNOWN\">Monday 3/9</TIMEX2> and can transmit Cropper asking to broadcast their network of stores.\n",
        "--------\n",
        ")\n",
        "\n",
        "If you can make me a display with CuCu on Wednesday ... it would top because I can possibly do to make a display of shooting, and product CuCu <TIMEX2 val=\"2014-04-17\">next Thursday</TIMEX2>, and put everything in page Friday to send to Mario.\n",
        "--------\n",
        "48 FR wages & NL you reach the middle of <TIMEX2 val=\"2014W16\">next week</TIMEX2>.\n"
       ]
      }
     ],
     "prompt_number": 7
    }
   ],
   "metadata": {}
  }
 ]
}
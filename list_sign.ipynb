{
 "metadata": {
  "name": "",
  "signature": "sha256:ad6a95d6624cf8c529e9b826cbe9e7825497a0c9cdbd369d14933bb0430206d9"
 },
 "nbformat": 3,
 "nbformat_minor": 0,
 "worksheets": [
  {
   "cells": [
    {
     "cell_type": "code",
     "collapsed": false,
     "input": [
      "signs = ['\\nChocolate Belvas(.*?)http://www.devas.be/fr/Declaration% 20environnementale% 20Belvas.pdf']"
     ],
     "language": "python",
     "metadata": {},
     "outputs": []
    }
   ],
   "metadata": {}
  }
 ]
}
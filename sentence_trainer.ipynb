{
 "metadata": {
  "name": "",
  "signature": "sha256:714372231a57dcacd036171dc07075264610ce0e91cce2f288a1d218298fdf21"
 },
 "nbformat": 3,
 "nbformat_minor": 0,
 "worksheets": [
  {
   "cells": [
    {
     "cell_type": "heading",
     "level": 1,
     "metadata": {},
     "source": [
      "Tokenisation of the Sentences, storing these as Object in DB and training for Intent attribution"
     ]
    },
    {
     "cell_type": "heading",
     "level": 2,
     "metadata": {},
     "source": [
      "Tokenisation of the Sentences and storing"
     ]
    },
    {
     "cell_type": "code",
     "collapsed": false,
     "input": [
      "import nltk.data\n",
      "import re\n",
      "%run db_link.ipynb\n",
      "def sentinator(mails):\n",
      "    for m in mails:\n",
      "        msg = m.clean_body\n",
      "        sent_detector = nltk.data.load('tokenizers/punkt/english.pickle')\n",
      "        sentences = sent_detector.tokenize(msg.strip())\n",
      "        list_tags = ['<start>','<deleted signature>','<deleted transfered header>','<deleted redundant message>','<end>','<\\\\>','<\\\\\\\\>','<useless>']\n",
      "        for s in sentences:\n",
      "            for t in list_tags:\n",
      "                s = re.sub(t, '', s, flags = re.DOTALL)\n",
      "            sent = Sentence(sentence_string = s, tag = '', email = m, lang = '')\n",
      "    odm_session.flush()\n",
      "    print str(len(Sentence.query.find().all())) + ' Sentences found and stored'\n",
      "    return True"
     ],
     "language": "python",
     "metadata": {},
     "outputs": [
      {
       "output_type": "stream",
       "stream": "stdout",
       "text": [
        "DB correctly created/syncronized\n"
       ]
      }
     ],
     "prompt_number": 2
    },
    {
     "cell_type": "raw",
     "metadata": {},
     "source": [
      "for t in Sentence.query.find().all():\n",
      "    t.delete()\n",
      "odm_session.flush()"
     ]
    },
    {
     "cell_type": "raw",
     "metadata": {},
     "source": [
      "mails = Email.query.find().all()\n",
      "%time sentinator(mails)   "
     ]
    },
    {
     "cell_type": "heading",
     "level": 2,
     "metadata": {},
     "source": [
      "Tagging the sentences for Intent"
     ]
    },
    {
     "cell_type": "code",
     "collapsed": false,
     "input": [
      "import re\n",
      "def tagger(sents):\n",
      "    for s in sents:\n",
      "        try:\n",
      "            if re.search('\\?', s.en_sentence) !=None:\n",
      "                print s.sentence_string\n",
      "                print s.en_sentence\n",
      "                tag = raw_input('tag :')\n",
      "                if tag == 'stop':\n",
      "                    break\n",
      "                s.tag = tag\n",
      "                odm_session.flush()\n",
      "        except: pass\n",
      "    print \"on s'arr\u00eate ici!\"\n",
      "    return s"
     ],
     "language": "python",
     "metadata": {},
     "outputs": [],
     "prompt_number": 18
    },
    {
     "cell_type": "code",
     "collapsed": false,
     "input": [
      "sents = Sentence.query.find({'tag' : 'r'}).all()\n",
      "for s in sents:\n",
      "    print s.tag, s.pred_tag"
     ],
     "language": "python",
     "metadata": {},
     "outputs": [
      {
       "output_type": "stream",
       "stream": "stdout",
       "text": [
        "r r\n",
        "r r\n",
        "r n\n",
        "r n\n",
        "r r\n",
        "r r\n",
        "r r\n",
        "r r\n",
        "r i\n",
        "r r\n",
        "r r\n",
        "r r\n",
        "r r\n",
        "r r\n",
        "r r\n",
        "r r\n",
        "r r\n",
        "r r\n",
        "r r\n",
        "r r\n",
        "r r\n",
        "r r\n",
        "r r\n",
        "r r\n",
        "r r\n",
        "r r\n",
        "r r\n",
        "r r\n",
        "r r\n",
        "r r\n",
        "r r\n",
        "r i\n",
        "r r\n",
        "r r\n",
        "r r\n",
        "r r\n",
        "r n\n",
        "r i\n",
        "r i\n",
        "r r\n",
        "r r\n",
        "r r\n",
        "r r\n",
        "r r\n",
        "r r\n",
        "r r\n",
        "r r\n",
        "r r\n",
        "r r\n",
        "r r\n",
        "r r\n",
        "r r\n",
        "r n\n",
        "r r\n",
        "r r\n",
        "r r\n",
        "r r\n",
        "r r\n",
        "r r\n",
        "r r\n",
        "r r\n",
        "r r\n",
        "r r\n",
        "r r\n",
        "r i\n",
        "r r\n",
        "r r\n",
        "r r\n",
        "r r\n",
        "r r\n",
        "r r\n",
        "r r\n",
        "r r\n"
       ]
      }
     ],
     "prompt_number": 23
    },
    {
     "cell_type": "code",
     "collapsed": false,
     "input": [
      "tag_sent = Sentence.query.find({'tag' : ''}).all()\n",
      "%time tagger(tag_sent)"
     ],
     "language": "python",
     "metadata": {},
     "outputs": [
      {
       "output_type": "stream",
       "stream": "stdout",
       "text": [
        "   Brand awareness, penetration, image ?\n",
        "   Brand awareness, penetration, image ?\n"
       ]
      },
      {
       "name": "stdout",
       "output_type": "stream",
       "stream": "stdout",
       "text": [
        "tag :r\n"
       ]
      },
      {
       "output_type": "stream",
       "stream": "stdout",
       "text": [
        "Ou donne-moi le tien in case partie prenante?\n",
        "Or give me yours in case stakeholder?\n"
       ]
      },
      {
       "name": "stdout",
       "output_type": "stream",
       "stream": "stdout",
       "text": [
        "tag :r\n"
       ]
      },
      {
       "output_type": "stream",
       "stream": "stdout",
       "text": [
        "We hebben 230 minstens nodig en ik had 2 rollen gevraagd ?\n",
        "We need at least 230, and I asked two roles?\n"
       ]
      },
      {
       "name": "stdout",
       "output_type": "stream",
       "stream": "stdout",
       "text": [
        "tag :r\n"
       ]
      },
      {
       "output_type": "stream",
       "stream": "stdout",
       "text": [
        "Merci de m'informer si un co\u00fbt nous sera factur\u00e9 ?\n",
        "Thank you to inform me if we will be charged a cost?\n"
       ]
      },
      {
       "name": "stdout",
       "output_type": "stream",
       "stream": "stdout",
       "text": [
        "tag :r\n"
       ]
      },
      {
       "output_type": "stream",
       "stream": "stdout",
       "text": [
        "Qu'en est-il du colis machu picchu?\n",
        "What the package Machu Picchu?\n"
       ]
      },
      {
       "name": "stdout",
       "output_type": "stream",
       "stream": "stdout",
       "text": [
        "tag :r\n"
       ]
      },
      {
       "output_type": "stream",
       "stream": "stdout",
       "text": [
        "So something between the two sizes or do we leave it as it was for easy packing?\n",
        "So something between the two sizes or do we leave it as it was for easy packing?\n"
       ]
      },
      {
       "name": "stdout",
       "output_type": "stream",
       "stream": "stdout",
       "text": [
        "tag :r\n"
       ]
      },
      {
       "output_type": "stream",
       "stream": "stdout",
       "text": [
        "fourni par ?\n",
        "provided by?\n"
       ]
      },
      {
       "name": "stdout",
       "output_type": "stream",
       "stream": "stdout",
       "text": [
        "tag :r\n"
       ]
      },
      {
       "output_type": "stream",
       "stream": "stdout",
       "text": [
        "--- Want to unsubscribe or change your details?\n",
        "--- Want to unsubscribe or change your details?\n"
       ]
      },
      {
       "name": "stdout",
       "output_type": "stream",
       "stream": "stdout",
       "text": [
        "tag :r\n"
       ]
      },
      {
       "output_type": "stream",
       "stream": "stdout",
       "text": [
        " Bien remis du spectacle?\n",
        "While recovering from the show?\n"
       ]
      },
      {
       "name": "stdout",
       "output_type": "stream",
       "stream": "stdout",
       "text": [
        "tag :r\n"
       ]
      },
      {
       "output_type": "stream",
       "stream": "stdout",
       "text": [
        "Is this answering your question?\n",
        "Is this answering your question?\n"
       ]
      },
      {
       "name": "stdout",
       "output_type": "stream",
       "stream": "stdout",
       "text": [
        "tag :r\n"
       ]
      },
      {
       "output_type": "stream",
       "stream": "stdout",
       "text": [
        "- bons de r\u00e9duction ?\n",
        "- Coupons?\n"
       ]
      },
      {
       "name": "stdout",
       "output_type": "stream",
       "stream": "stdout",
       "text": [
        "tag :r\n"
       ]
      },
      {
       "output_type": "stream",
       "stream": "stdout",
       "text": [
        "* (not pralin\u00e9 almond) Do you have one pallet in stock?\n",
        "* (not pralin\u00e9 almond) Do you have one pallet in stock?\n"
       ]
      },
      {
       "name": "stdout",
       "output_type": "stream",
       "stream": "stdout",
       "text": [
        "tag :r\n"
       ]
      },
      {
       "output_type": "stream",
       "stream": "stdout",
       "text": [
        "And what would be the price?\n",
        "And what would be the price?\n"
       ]
      },
      {
       "name": "stdout",
       "output_type": "stream",
       "stream": "stdout",
       "text": [
        "tag :r\n"
       ]
      },
      {
       "output_type": "stream",
       "stream": "stdout",
       "text": [
        "Uitschrijven:  Hulp nodig?\n",
        "Unsubscribe: Need help?\n"
       ]
      },
      {
       "name": "stdout",
       "output_type": "stream",
       "stream": "stdout",
       "text": [
        "tag :r\n"
       ]
      },
      {
       "output_type": "stream",
       "stream": "stdout",
       "text": [
        "K\u00f6nnte es sich hierbei um kleine Larven der Lebensmittelmotte handeln?\n",
        "Could this is be small larvae of the moth food?\n"
       ]
      },
      {
       "name": "stdout",
       "output_type": "stream",
       "stream": "stdout",
       "text": [
        "tag :r\n"
       ]
      },
      {
       "output_type": "stream",
       "stream": "stdout",
       "text": [
        "C\u0092est pourquoi nous faisons appel \u00e0 votre g\u00e9n\u00e9rosit\u00e9.\n",
        "C?'s Why we appeal to your generosity.\n"
       ]
      },
      {
       "name": "stdout",
       "output_type": "stream",
       "stream": "stdout",
       "text": [
        "tag :i\n"
       ]
      },
      {
       "output_type": "stream",
       "stream": "stdout",
       "text": [
        "(foto in bijlage) Wat past jullie het best?\n",
        "(Photo attached) What you fit best?\n"
       ]
      },
      {
       "name": "stdout",
       "output_type": "stream",
       "stream": "stdout",
       "text": [
        "tag :r\n"
       ]
      },
      {
       "output_type": "stream",
       "stream": "stdout",
       "text": [
        "I am in the office , is now a good time to talk?\n",
        "I am in the office , is now a good time to talk?\n"
       ]
      },
      {
       "name": "stdout",
       "output_type": "stream",
       "stream": "stdout",
       "text": [
        "tag :r\n"
       ]
      },
      {
       "output_type": "stream",
       "stream": "stdout",
       "text": [
        "Can you send it me?\n",
        "Can you send it me?\n"
       ]
      },
      {
       "name": "stdout",
       "output_type": "stream",
       "stream": "stdout",
       "text": [
        "tag :r\n"
       ]
      },
      {
       "output_type": "stream",
       "stream": "stdout",
       "text": [
        "En Suisse, pour skier\u2026 en Valais ?\n",
        "I Suisse, pour skier ... I do not Valais?\n"
       ]
      },
      {
       "name": "stdout",
       "output_type": "stream",
       "stream": "stdout",
       "text": [
        "tag :r\n"
       ]
      },
      {
       "output_type": "stream",
       "stream": "stdout",
       "text": [
        "C'est quoi \u00e7a?\n",
        "What is this?\n"
       ]
      },
      {
       "name": "stdout",
       "output_type": "stream",
       "stream": "stdout",
       "text": [
        "tag :r\n"
       ]
      },
      {
       "output_type": "stream",
       "stream": "stdout",
       "text": [
        "N'y aurait-il donc pas une erreur pour le prix actuel?\n",
        "There would it not an error for the current price?\n"
       ]
      },
      {
       "name": "stdout",
       "output_type": "stream",
       "stream": "stdout",
       "text": [
        "tag :r\n"
       ]
      },
      {
       "output_type": "stream",
       "stream": "stdout",
       "text": [
        "est-ce possible?\n",
        "Is this possible?\n"
       ]
      },
      {
       "name": "stdout",
       "output_type": "stream",
       "stream": "stdout",
       "text": [
        "tag :r\n"
       ]
      },
      {
       "output_type": "stream",
       "stream": "stdout",
       "text": [
        "Can you also send the cost for YS 600 in 5.000 and 10.000 units?\n",
        "Can you also send the cost for YS 600 in 5.000 and 10.000 units?\n"
       ]
      },
      {
       "name": "stdout",
       "output_type": "stream",
       "stream": "stdout",
       "text": [
        "tag :r\n"
       ]
      },
      {
       "output_type": "stream",
       "stream": "stdout",
       "text": [
        "Could you please send me the photo of \"holidays\" one (FL106A)?\n",
        "Could you please send me the photo of \"holidays\" one (FL106A)?\n"
       ]
      },
      {
       "name": "stdout",
       "output_type": "stream",
       "stream": "stdout",
       "text": [
        "tag :r\n"
       ]
      },
      {
       "output_type": "stream",
       "stream": "stdout",
       "text": [
        " Est-ce bien normal de chanter \u00e0 tue t\u00eate sur mon v\u00e9lo en plein Bruxelles?\n",
        "Is it normal to sing it out loud on my bike right in Brussels?\n"
       ]
      },
      {
       "name": "stdout",
       "output_type": "stream",
       "stream": "stdout",
       "text": [
        "tag :r\n"
       ]
      },
      {
       "output_type": "stream",
       "stream": "stdout",
       "text": [
        "Est-ce faisable de votre c\u00f4t\u00e9 ?\n",
        "Is it doable on your side?\n"
       ]
      },
      {
       "name": "stdout",
       "output_type": "stream",
       "stream": "stdout",
       "text": [
        "tag :r\n"
       ]
      },
      {
       "output_type": "stream",
       "stream": "stdout",
       "text": [
        "I realise that the printing price might be a little higher, but for yea one, this may be a good idea?\n",
        "I realise that the printing price might be a little higher, but for yea one, this may be a good idea?\n"
       ]
      },
      {
       "name": "stdout",
       "output_type": "stream",
       "stream": "stdout",
       "text": [
        "tag :r\n"
       ]
      },
      {
       "output_type": "stream",
       "stream": "stdout",
       "text": [
        "Vous pouvez me mettre en contact avec des gens qui veulent parler de ce sujet avec moi ?\n",
        "You can put me in touch with people who want to talk about it with me?\n"
       ]
      },
      {
       "name": "stdout",
       "output_type": "stream",
       "stream": "stdout",
       "text": [
        "tag :r\n"
       ]
      },
      {
       "output_type": "stream",
       "stream": "stdout",
       "text": [
        "Est-ce que les \u00e9chantillons (10 ex par pi\u00e8ce) et aussi les listes ingr\u00e9dients seront pr\u00eates pour fin mars s..v.p.?\n",
        "Is that the samples (eg 10 each) and also the ingredients lists will be ready for the end of March .. s vp?\n"
       ]
      },
      {
       "name": "stdout",
       "output_type": "stream",
       "stream": "stdout",
       "text": [
        "tag :r\n"
       ]
      },
      {
       "output_type": "stream",
       "stream": "stdout",
       "text": [
        "Pourriez-vous me mettre en contact avec votre d\u00e9partement marketing afin de partager notre id\u00e9e ?\n",
        "Could you put me in touch with your marketing department to share our idea?\n"
       ]
      },
      {
       "name": "stdout",
       "output_type": "stream",
       "stream": "stdout",
       "text": [
        "tag :r\n"
       ]
      },
      {
       "output_type": "stream",
       "stream": "stdout",
       "text": [
        "Ou alors il faut mettre en bouteille (sic..) un autre spectacle genre Pampero?\n",
        "Or it must be bottled (sic). Pampero another show like?\n"
       ]
      },
      {
       "name": "stdout",
       "output_type": "stream",
       "stream": "stdout",
       "text": [
        "tag :r\n"
       ]
      },
      {
       "output_type": "stream",
       "stream": "stdout",
       "text": [
        "ou b) micro devant pr\u00e9ampli?\n",
        "or b) microphone preamp before?\n"
       ]
      },
      {
       "name": "stdout",
       "output_type": "stream",
       "stream": "stdout",
       "text": [
        "tag :r\n"
       ]
      },
      {
       "output_type": "stream",
       "stream": "stdout",
       "text": [
        "Sent from my iPhone\r",
        " \r",
        "  On 24 Feb 2014, at 21:45, \"He Susan\" <Susan.He@cargo-partner.com> wrote:\r",
        "  \r",
        "  Dear Sophia,\r",
        "  we have got price request from Ms Laurence for this shipment,c\r",
        "  an you pls adv n confirm the cargo details?\n",
        "Sent from my iPhone\r",
        " \r",
        "  On 24 Feb 2014, at 21:45, \"He Susan\" <Susan.He@cargo-partner.com> wrote:\r",
        "  \r",
        "  Dear Sophia,\r",
        "  we have got price request from Ms Laurence for this shipment,c\r",
        "  an you pls adv n confirm the cargo details?\n"
       ]
      },
      {
       "name": "stdout",
       "output_type": "stream",
       "stream": "stdout",
       "text": [
        "tag :r\n"
       ]
      },
      {
       "output_type": "stream",
       "stream": "stdout",
       "text": [
        "Un rendez-vous \u00e0 la mi-mai vous conviendrait-il ?\n",
        "An appointment in mid-May suit you?\n"
       ]
      },
      {
       "name": "stdout",
       "output_type": "stream",
       "stream": "stdout",
       "text": [
        "tag :r\n"
       ]
      },
      {
       "output_type": "stream",
       "stream": "stdout",
       "text": [
        "They are 3 parties in destination;  1 CNEE= I.B.C  2.Agent= Expeditor in Toronto  3.Delivery address= WG PRO....  can you still add the delivery address also in HAWB?\n",
        "They are 3 parties in destination;  1 CNEE= I.B.C  2.Agent= Expeditor in Toronto  3.Delivery address= WG PRO....  can you still add the delivery address also in HAWB?\n"
       ]
      },
      {
       "name": "stdout",
       "output_type": "stream",
       "stream": "stdout",
       "text": [
        "tag :r\n"
       ]
      },
      {
       "output_type": "stream",
       "stream": "stdout",
       "text": [
        "I see on your website that the Heidi logo is in the mould; do you have neutral moulds?\n",
        "I see on your website that the Heidi logo is in the mould; do you have neutral moulds?\n"
       ]
      },
      {
       "name": "stdout",
       "output_type": "stream",
       "stream": "stdout",
       "text": [
        "tag :r\n"
       ]
      },
      {
       "output_type": "stream",
       "stream": "stdout",
       "text": [
        " Pour moi le 11 s'arrange mieux On note \u00e7a ?\n",
        "For me the 11 is noted that better suits?\n"
       ]
      },
      {
       "name": "stdout",
       "output_type": "stream",
       "stream": "stdout",
       "text": [
        "tag :r\n"
       ]
      },
      {
       "output_type": "stream",
       "stream": "stdout",
       "text": [
        "Est-ce que je lui commande \u00e0 ce prix les 160.000 fleurs?\n",
        "Will I order it at this price 160,000 flowers?\n"
       ]
      },
      {
       "name": "stdout",
       "output_type": "stream",
       "stream": "stdout",
       "text": [
        "tag :r\n"
       ]
      },
      {
       "output_type": "stream",
       "stream": "stdout",
       "text": [
        "Could you please tell me if this could be of your interest ?\n",
        "Could you please tell me if this could be of your interest ?\n"
       ]
      },
      {
       "name": "stdout",
       "output_type": "stream",
       "stream": "stdout",
       "text": [
        "tag :r\n"
       ]
      },
      {
       "output_type": "stream",
       "stream": "stdout",
       "text": [
        " Tu veux dire vendredi?\n",
        "You mean Friday?\n"
       ]
      },
      {
       "name": "stdout",
       "output_type": "stream",
       "stream": "stdout",
       "text": [
        "tag :r\n"
       ]
      },
      {
       "output_type": "stream",
       "stream": "stdout",
       "text": [
        "Do you want to come over?\n",
        "Do you want to come over?\n"
       ]
      },
      {
       "name": "stdout",
       "output_type": "stream",
       "stream": "stdout",
       "text": [
        "tag :r\n"
       ]
      },
      {
       "output_type": "stream",
       "stream": "stdout",
       "text": [
        "Pouvez-vous  svp v\u00e9rifier et nous tenir au courant?\n",
        "Can you please check and keep us informed?\n"
       ]
      },
      {
       "name": "stdout",
       "output_type": "stream",
       "stream": "stdout",
       "text": [
        "tag :r\n"
       ]
      },
      {
       "output_type": "stream",
       "stream": "stdout",
       "text": [
        " Waouuww, quels talents\u0085",
        "vous \u00e9crivez tous presque aussi bien que vous ne faites de la musique, c\u0092est dire.\n",
        "Waouuww, what talent? Almost all you write as well as you do music, c? Say is.\n"
       ]
      },
      {
       "name": "stdout",
       "output_type": "stream",
       "stream": "stdout",
       "text": [
        "tag :n\n"
       ]
      },
      {
       "output_type": "stream",
       "stream": "stdout",
       "text": [
        "fourni par ?\n",
        "provided by?\n"
       ]
      },
      {
       "name": "stdout",
       "output_type": "stream",
       "stream": "stdout",
       "text": [
        "tag :r\n"
       ]
      },
      {
       "output_type": "stream",
       "stream": "stdout",
       "text": [
        "Heb ik jullie akkoord daarvoor?\n",
        "Did I accept that?\n"
       ]
      },
      {
       "name": "stdout",
       "output_type": "stream",
       "stream": "stdout",
       "text": [
        "tag :r\n"
       ]
      },
      {
       "output_type": "stream",
       "stream": "stdout",
       "text": [
        "est ce que j'indique:  les Extincteurs  et 7500\u20ac  \t\t\t\t\t\t\t\t\t\t      -  co\u00fbt du plateau?\n",
        "is what I said: Fire extinguishers and \u20ac 7,500 - Cost of tea?\n"
       ]
      },
      {
       "name": "stdout",
       "output_type": "stream",
       "stream": "stdout",
       "text": [
        "tag :r\n"
       ]
      },
      {
       "output_type": "stream",
       "stream": "stdout",
       "text": [
        " Je te l'envoie \u00e0 quelle adresse ?\n",
        "I sent you what address?\n"
       ]
      },
      {
       "name": "stdout",
       "output_type": "stream",
       "stream": "stdout",
       "text": [
        "tag :r\n"
       ]
      },
      {
       "output_type": "stream",
       "stream": "stdout",
       "text": [
        " C'est combien qu'on doit?\n",
        "This is how we should?\n"
       ]
      },
      {
       "name": "stdout",
       "output_type": "stream",
       "stream": "stdout",
       "text": [
        "tag :r\n"
       ]
      },
      {
       "output_type": "stream",
       "stream": "stdout",
       "text": [
        " Est-ce que 14.30 vous convient ?\n",
        "Is 14.30 you?\n"
       ]
      },
      {
       "name": "stdout",
       "output_type": "stream",
       "stream": "stdout",
       "text": [
        "tag :r\n"
       ]
      },
      {
       "output_type": "stream",
       "stream": "stdout",
       "text": [
        "Ok pour vous ???\n",
        "Ok for you??\n"
       ]
      },
      {
       "name": "stdout",
       "output_type": "stream",
       "stream": "stdout",
       "text": [
        "tag :r\n"
       ]
      },
      {
       "output_type": "stream",
       "stream": "stdout",
       "text": [
        "Behaviours, consumption habits ?\n",
        "Behaviours, consumption habits ?\n"
       ]
      },
      {
       "name": "stdout",
       "output_type": "stream",
       "stream": "stdout",
       "text": [
        "tag :r\n"
       ]
      },
      {
       "output_type": "stream",
       "stream": "stdout",
       "text": [
        "C'est quel Delhaize?\n",
        "Delhaize is what?\n"
       ]
      },
      {
       "name": "stdout",
       "output_type": "stream",
       "stream": "stdout",
       "text": [
        "tag :r\n"
       ]
      },
      {
       "output_type": "stream",
       "stream": "stdout",
       "text": [
        "Is 5000 dollar from Belvas good?\n",
        "Is 5000 dollar from Belvas good?\n"
       ]
      },
      {
       "name": "stdout",
       "output_type": "stream",
       "stream": "stdout",
       "text": [
        "tag :r\n"
       ]
      },
      {
       "output_type": "stream",
       "stream": "stdout",
       "text": [
        "Could you send me the EAN codes for these asap?\n",
        "Could you send me the EAN codes for these asap?\n"
       ]
      },
      {
       "name": "stdout",
       "output_type": "stream",
       "stream": "stdout",
       "text": [
        "tag :r\n"
       ]
      },
      {
       "output_type": "stream",
       "stream": "stdout",
       "text": [
        " Can we continue this project?  \n",
        " Can we continue this project?  \n"
       ]
      },
      {
       "name": "stdout",
       "output_type": "stream",
       "stream": "stdout",
       "text": [
        "tag :r\n"
       ]
      },
      {
       "output_type": "stream",
       "stream": "stdout",
       "text": [
        "Qu'en est-il du colis machu picchu?\n",
        "What the package Machu Picchu?\n"
       ]
      },
      {
       "name": "stdout",
       "output_type": "stream",
       "stream": "stdout",
       "text": [
        "tag :r\n"
       ]
      },
      {
       "output_type": "stream",
       "stream": "stdout",
       "text": [
        " Crois-tu que tu pourrais t'occuper de ceci ?\n",
        "Do you think you could take care of this?\n"
       ]
      },
      {
       "name": "stdout",
       "output_type": "stream",
       "stream": "stdout",
       "text": [
        "tag :r\n"
       ]
      },
      {
       "output_type": "stream",
       "stream": "stdout",
       "text": [
        "Achat ruban?\n",
        "Purchase ribbon?\n"
       ]
      },
      {
       "name": "stdout",
       "output_type": "stream",
       "stream": "stdout",
       "text": [
        "tag :r\n"
       ]
      },
      {
       "output_type": "stream",
       "stream": "stdout",
       "text": [
        "5000 units?\n",
        "5000 units?\n"
       ]
      },
      {
       "name": "stdout",
       "output_type": "stream",
       "stream": "stdout",
       "text": [
        "tag :r\n"
       ]
      },
      {
       "output_type": "stream",
       "stream": "stdout",
       "text": [
        " Alles OK daar ?\n",
        "Everything OK there?\n"
       ]
      },
      {
       "name": "stdout",
       "output_type": "stream",
       "stream": "stdout",
       "text": [
        "tag :r\n"
       ]
      },
      {
       "output_type": "stream",
       "stream": "stdout",
       "text": [
        "Ou autre part?\n",
        "Or other?\n"
       ]
      },
      {
       "name": "stdout",
       "output_type": "stream",
       "stream": "stdout",
       "text": [
        "tag :r\n"
       ]
      },
      {
       "output_type": "stream",
       "stream": "stdout",
       "text": [
        "I will need about 17 pieces - will this be possible?\n",
        "I will need about 17 pieces - will this be possible?\n"
       ]
      },
      {
       "name": "stdout",
       "output_type": "stream",
       "stream": "stdout",
       "text": [
        "tag :r\n"
       ]
      },
      {
       "output_type": "stream",
       "stream": "stdout",
       "text": [
        "Flavia; Zouden we de stalen voor je beurzen meesturen (bovenop de bulk die je vemeld) ?\n",
        "Flavia; We would have the samples for scholarships most hours (on top of the bulk that you indicated thereon)?\n"
       ]
      },
      {
       "name": "stdout",
       "output_type": "stream",
       "stream": "stdout",
       "text": [
        "tag :r\n"
       ]
      },
      {
       "output_type": "stream",
       "stream": "stdout",
       "text": [
        "See what I mean?\n",
        "See what I mean?\n"
       ]
      },
      {
       "name": "stdout",
       "output_type": "stream",
       "stream": "stdout",
       "text": [
        "tag :r\n"
       ]
      },
      {
       "output_type": "stream",
       "stream": "stdout",
       "text": [
        "Je peux t appeler demain?\n",
        "I can t call tomorrow?\n"
       ]
      },
      {
       "name": "stdout",
       "output_type": "stream",
       "stream": "stdout",
       "text": [
        "tag :r\n"
       ]
      },
      {
       "output_type": "stream",
       "stream": "stdout",
       "text": [
        " Je bedoeld 1 riet figuurtje, om met de hand te vullen, en te beoordelen ?\n",
        "You mean one reed figure, to fill by hand and judge?\n"
       ]
      },
      {
       "name": "stdout",
       "output_type": "stream",
       "stream": "stdout",
       "text": [
        "tag :r\n"
       ]
      },
      {
       "output_type": "stream",
       "stream": "stdout",
       "text": [
        "Is het zo dat je het wil ?\n",
        "Is it that you want?\n"
       ]
      },
      {
       "name": "stdout",
       "output_type": "stream",
       "stream": "stdout",
       "text": [
        "tag :r\n"
       ]
      },
      {
       "output_type": "stream",
       "stream": "stdout",
       "text": [
        "can you please confirm that it is ok?\n",
        "can you please confirm that it is ok?\n"
       ]
      },
      {
       "name": "stdout",
       "output_type": "stream",
       "stream": "stdout",
       "text": [
        "tag :r\n"
       ]
      },
      {
       "output_type": "stream",
       "stream": "stdout",
       "text": [
        " L\u2019appel d\u2019offre est sur 240 x (1 lapin de Paques (60g - noir ou lait) et 200g d'oeufs de P\u00e2ques) ?\n",
        "The tender is 240 x (1 Easter Bunny (60g - dark or milk) and Easter eggs 200g)?\n"
       ]
      },
      {
       "name": "stdout",
       "output_type": "stream",
       "stream": "stdout",
       "text": [
        "tag :r\n"
       ]
      },
      {
       "output_type": "stream",
       "stream": "stdout",
       "text": [
        "Je lui r\u00e9ponds assez s\u00e8chement:  \"A Braine-l'Alleud?\n",
        "I replied dryly: \"A Braine-l'Alleud?\n"
       ]
      },
      {
       "name": "stdout",
       "output_type": "stream",
       "stream": "stdout",
       "text": [
        "tag :r\n"
       ]
      },
      {
       "output_type": "stream",
       "stream": "stdout",
       "text": [
        "C'est quoi \u00e7a?\n",
        "What is this?\n"
       ]
      },
      {
       "name": "stdout",
       "output_type": "stream",
       "stream": "stdout",
       "text": [
        "tag :r\n"
       ]
      },
      {
       "output_type": "stream",
       "stream": "stdout",
       "text": [
        "Perhaps the house is tying to tell us something?\n",
        "Perhaps the house is tying to tell us something?\n"
       ]
      },
      {
       "name": "stdout",
       "output_type": "stream",
       "stream": "stdout",
       "text": [
        "tag :stop7\n"
       ]
      },
      {
       "output_type": "stream",
       "stream": "stdout",
       "text": [
        "Tu as des nouvelles pour mes mini brownies ?\n",
        "You have news for my mini brownies?\n"
       ]
      },
      {
       "name": "stdout",
       "output_type": "stream",
       "stream": "stdout",
       "text": [
        "tag :stop\n"
       ]
      },
      {
       "output_type": "stream",
       "stream": "stdout",
       "text": [
        "on s'arr\u00eate ici!\n",
        "Wall time: 8min 26s\n"
       ]
      },
      {
       "metadata": {},
       "output_type": "pyout",
       "prompt_number": 19,
       "text": [
        "<Sentence en_sentence=u'You have news for my mini brownies?'\n",
        "  pred_tag=u'r' sentence_string=u'Tu as des nouvelles pour\n",
        "  mes mini brownies ?' tag=u''\n",
        "  email_id=ObjectId('536c7c169f680a40ace1d446')\n",
        "  _id=ObjectId('536cceda9f680a7dcc41c31f')>"
       ]
      }
     ],
     "prompt_number": 19
    },
    {
     "cell_type": "heading",
     "level": 6,
     "metadata": {},
     "source": [
      "translating the sentences"
     ]
    },
    {
     "cell_type": "code",
     "collapsed": false,
     "input": [
      "import goslate\n",
      "def translate_sentences():\n",
      "    list_object = []\n",
      "    for s in Sentence.query.find().all():\n",
      "        if s.en_sentence is None:\n",
      "            list_object.append(s)\n",
      "    gs = goslate.Goslate(timeout = 6)\n",
      "    for o in list_object:\n",
      "        try:\n",
      "            o.en_sentence = gs.translate(unicode(o.sentence_string), 'en')\n",
      "        except:\n",
      "            print 'mauvaise phrase '+ o.sentence_string\n",
      "    odm_session.flush()\n",
      "        \n",
      "    return True\n",
      "%time translate_sentences()"
     ],
     "language": "python",
     "metadata": {},
     "outputs": [
      {
       "output_type": "stream",
       "stream": "stdout",
       "text": [
        "mauvaise phrase *   \n",
        "mauvaise phrase 3."
       ]
      },
      {
       "output_type": "stream",
       "stream": "stdout",
       "text": [
        "\n",
        "mauvaise phrase --   "
       ]
      },
      {
       "output_type": "stream",
       "stream": "stdout",
       "text": [
        "\n",
        "mauvaise phrase 4."
       ]
      },
      {
       "output_type": "stream",
       "stream": "stdout",
       "text": [
        "\n",
        "mauvaise phrase * "
       ]
      },
      {
       "output_type": "stream",
       "stream": "stdout",
       "text": [
        "\n",
        "mauvaise phrase 2."
       ]
      },
      {
       "output_type": "stream",
       "stream": "stdout",
       "text": [
        "\n",
        "mauvaise phrase * "
       ]
      },
      {
       "output_type": "stream",
       "stream": "stdout",
       "text": [
        "\n",
        "mauvaise phrase * "
       ]
      },
      {
       "output_type": "stream",
       "stream": "stdout",
       "text": [
        "\n",
        "mauvaise phrase 4."
       ]
      },
      {
       "output_type": "stream",
       "stream": "stdout",
       "text": [
        "\n",
        "mauvaise phrase 2."
       ]
      },
      {
       "output_type": "stream",
       "stream": "stdout",
       "text": [
        "\n",
        "mauvaise phrase * "
       ]
      },
      {
       "output_type": "stream",
       "stream": "stdout",
       "text": [
        "\n",
        "mauvaise phrase ! "
       ]
      },
      {
       "output_type": "stream",
       "stream": "stdout",
       "text": [
        "\n",
        "mauvaise phrase * "
       ]
      },
      {
       "output_type": "stream",
       "stream": "stdout",
       "text": [
        "\n",
        "mauvaise phrase 2."
       ]
      },
      {
       "output_type": "stream",
       "stream": "stdout",
       "text": [
        "\n",
        "mauvaise phrase 2."
       ]
      },
      {
       "output_type": "stream",
       "stream": "stdout",
       "text": [
        "\n",
        "mauvaise phrase 3."
       ]
      },
      {
       "output_type": "stream",
       "stream": "stdout",
       "text": [
        "\n",
        "mauvaise phrase 6."
       ]
      },
      {
       "output_type": "stream",
       "stream": "stdout",
       "text": [
        "\n",
        "mauvaise phrase * "
       ]
      },
      {
       "output_type": "stream",
       "stream": "stdout",
       "text": [
        "\n",
        "mauvaise phrase 4."
       ]
      },
      {
       "output_type": "stream",
       "stream": "stdout",
       "text": [
        "\n",
        "mauvaise phrase  --  "
       ]
      },
      {
       "output_type": "stream",
       "stream": "stdout",
       "text": [
        "\n",
        "mauvaise phrase 2."
       ]
      },
      {
       "output_type": "stream",
       "stream": "stdout",
       "text": [
        "\n",
        "mauvaise phrase * "
       ]
      },
      {
       "output_type": "stream",
       "stream": "stdout",
       "text": [
        "\n",
        "mauvaise phrase 3."
       ]
      },
      {
       "output_type": "stream",
       "stream": "stdout",
       "text": [
        "\n",
        "mauvaise phrase *   "
       ]
      },
      {
       "output_type": "stream",
       "stream": "stdout",
       "text": [
        "\n",
        "mauvaise phrase 3."
       ]
      },
      {
       "output_type": "stream",
       "stream": "stdout",
       "text": [
        "\n",
        "mauvaise phrase * "
       ]
      },
      {
       "output_type": "stream",
       "stream": "stdout",
       "text": [
        "\n",
        "mauvaise phrase 3."
       ]
      },
      {
       "output_type": "stream",
       "stream": "stdout",
       "text": [
        "\n",
        "mauvaise phrase *   "
       ]
      },
      {
       "output_type": "stream",
       "stream": "stdout",
       "text": [
        "\n",
        "mauvaise phrase 2."
       ]
      },
      {
       "output_type": "stream",
       "stream": "stdout",
       "text": [
        "\n",
        "mauvaise phrase --   "
       ]
      },
      {
       "output_type": "stream",
       "stream": "stdout",
       "text": [
        "\n",
        "mauvaise phrase * "
       ]
      },
      {
       "output_type": "stream",
       "stream": "stdout",
       "text": [
        "\n",
        "mauvaise phrase * "
       ]
      },
      {
       "output_type": "stream",
       "stream": "stdout",
       "text": [
        "\n",
        "mauvaise phrase 6."
       ]
      },
      {
       "output_type": "stream",
       "stream": "stdout",
       "text": [
        "\n",
        "mauvaise phrase 3."
       ]
      },
      {
       "output_type": "stream",
       "stream": "stdout",
       "text": [
        "\n",
        "mauvaise phrase * "
       ]
      },
      {
       "output_type": "stream",
       "stream": "stdout",
       "text": [
        "\n",
        "mauvaise phrase 5."
       ]
      },
      {
       "output_type": "stream",
       "stream": "stdout",
       "text": [
        "\n",
        "mauvaise phrase 8."
       ]
      },
      {
       "output_type": "stream",
       "stream": "stdout",
       "text": [
        "\n",
        "mauvaise phrase * "
       ]
      },
      {
       "output_type": "stream",
       "stream": "stdout",
       "text": [
        "\n",
        "mauvaise phrase 2."
       ]
      },
      {
       "output_type": "stream",
       "stream": "stdout",
       "text": [
        "\n",
        "mauvaise phrase * "
       ]
      },
      {
       "output_type": "stream",
       "stream": "stdout",
       "text": [
        "\n",
        "mauvaise phrase *   "
       ]
      },
      {
       "output_type": "stream",
       "stream": "stdout",
       "text": [
        "\n",
        "mauvaise phrase :)   "
       ]
      },
      {
       "output_type": "stream",
       "stream": "stdout",
       "text": [
        "\n",
        "mauvaise phrase 4."
       ]
      },
      {
       "output_type": "stream",
       "stream": "stdout",
       "text": [
        "\n",
        "mauvaise phrase * "
       ]
      },
      {
       "output_type": "stream",
       "stream": "stdout",
       "text": [
        "\n",
        "mauvaise phrase 2."
       ]
      },
      {
       "output_type": "stream",
       "stream": "stdout",
       "text": [
        "\n",
        "mauvaise phrase 3."
       ]
      },
      {
       "output_type": "stream",
       "stream": "stdout",
       "text": [
        "\n",
        "mauvaise phrase 5."
       ]
      },
      {
       "output_type": "stream",
       "stream": "stdout",
       "text": [
        "\n",
        "mauvaise phrase *   "
       ]
      },
      {
       "output_type": "stream",
       "stream": "stdout",
       "text": [
        "\n",
        "mauvaise phrase * "
       ]
      },
      {
       "output_type": "stream",
       "stream": "stdout",
       "text": [
        "\n",
        "mauvaise phrase 1."
       ]
      },
      {
       "output_type": "stream",
       "stream": "stdout",
       "text": [
        "\n",
        "mauvaise phrase *    "
       ]
      },
      {
       "output_type": "stream",
       "stream": "stdout",
       "text": [
        "\n",
        "mauvaise phrase !  "
       ]
      },
      {
       "output_type": "stream",
       "stream": "stdout",
       "text": [
        "\n",
        "mauvaise phrase 1."
       ]
      },
      {
       "output_type": "stream",
       "stream": "stdout",
       "text": [
        "\n",
        "mauvaise phrase 1."
       ]
      },
      {
       "output_type": "stream",
       "stream": "stdout",
       "text": [
        "\n",
        "mauvaise phrase 2."
       ]
      },
      {
       "output_type": "stream",
       "stream": "stdout",
       "text": [
        "\n",
        "mauvaise phrase 2."
       ]
      },
      {
       "output_type": "stream",
       "stream": "stdout",
       "text": [
        "\n",
        "mauvaise phrase 4."
       ]
      },
      {
       "output_type": "stream",
       "stream": "stdout",
       "text": [
        "\n",
        "mauvaise phrase 2."
       ]
      },
      {
       "output_type": "stream",
       "stream": "stdout",
       "text": [
        "\n",
        "mauvaise phrase * \n",
        "mauvaise phrase 6."
       ]
      },
      {
       "output_type": "stream",
       "stream": "stdout",
       "text": [
        "\n",
        "mauvaise phrase * "
       ]
      },
      {
       "output_type": "stream",
       "stream": "stdout",
       "text": [
        "\n",
        "mauvaise phrase *      "
       ]
      },
      {
       "output_type": "stream",
       "stream": "stdout",
       "text": [
        "\n",
        "mauvaise phrase * "
       ]
      },
      {
       "output_type": "stream",
       "stream": "stdout",
       "text": [
        "\n",
        "mauvaise phrase * "
       ]
      },
      {
       "output_type": "stream",
       "stream": "stdout",
       "text": [
        "\n",
        "mauvaise phrase !  "
       ]
      },
      {
       "output_type": "stream",
       "stream": "stdout",
       "text": [
        "\n",
        "mauvaise phrase *   "
       ]
      },
      {
       "output_type": "stream",
       "stream": "stdout",
       "text": [
        "\n",
        "mauvaise phrase *   "
       ]
      },
      {
       "output_type": "stream",
       "stream": "stdout",
       "text": [
        "\n",
        "mauvaise phrase * "
       ]
      },
      {
       "output_type": "stream",
       "stream": "stdout",
       "text": [
        "\n",
        "mauvaise phrase 2."
       ]
      },
      {
       "output_type": "stream",
       "stream": "stdout",
       "text": [
        "\n",
        "mauvaise phrase * "
       ]
      },
      {
       "output_type": "stream",
       "stream": "stdout",
       "text": [
        "\n",
        "mauvaise phrase * "
       ]
      },
      {
       "output_type": "stream",
       "stream": "stdout",
       "text": [
        "\n",
        "mauvaise phrase * "
       ]
      },
      {
       "output_type": "stream",
       "stream": "stdout",
       "text": [
        "\n",
        "mauvaise phrase 4."
       ]
      },
      {
       "output_type": "stream",
       "stream": "stdout",
       "text": [
        "\n",
        "mauvaise phrase 2."
       ]
      },
      {
       "output_type": "stream",
       "stream": "stdout",
       "text": [
        "\n",
        "mauvaise phrase *   "
       ]
      },
      {
       "output_type": "stream",
       "stream": "stdout",
       "text": [
        "\n",
        "mauvaise phrase 5."
       ]
      },
      {
       "output_type": "stream",
       "stream": "stdout",
       "text": [
        "\n",
        "mauvaise phrase * "
       ]
      },
      {
       "output_type": "stream",
       "stream": "stdout",
       "text": [
        "\n",
        "mauvaise phrase  T  "
       ]
      },
      {
       "output_type": "stream",
       "stream": "stdout",
       "text": [
        "\n",
        "mauvaise phrase 3."
       ]
      },
      {
       "output_type": "stream",
       "stream": "stdout",
       "text": [
        "\n",
        "mauvaise phrase 2."
       ]
      },
      {
       "output_type": "stream",
       "stream": "stdout",
       "text": [
        "\n",
        "mauvaise phrase 2."
       ]
      },
      {
       "output_type": "stream",
       "stream": "stdout",
       "text": [
        "\n",
        "mauvaise phrase )   "
       ]
      },
      {
       "output_type": "stream",
       "stream": "stdout",
       "text": [
        "\n",
        "mauvaise phrase  T  "
       ]
      },
      {
       "output_type": "stream",
       "stream": "stdout",
       "text": [
        "\n",
        "mauvaise phrase 9."
       ]
      },
      {
       "output_type": "stream",
       "stream": "stdout",
       "text": [
        "\n",
        "mauvaise phrase 2."
       ]
      },
      {
       "output_type": "stream",
       "stream": "stdout",
       "text": [
        "\n",
        "mauvaise phrase 1."
       ]
      },
      {
       "output_type": "stream",
       "stream": "stdout",
       "text": [
        "\n",
        "mauvaise phrase 2."
       ]
      },
      {
       "output_type": "stream",
       "stream": "stdout",
       "text": [
        "\n",
        "mauvaise phrase *   "
       ]
      },
      {
       "output_type": "stream",
       "stream": "stdout",
       "text": [
        "\n",
        "mauvaise phrase 1."
       ]
      },
      {
       "output_type": "stream",
       "stream": "stdout",
       "text": [
        "\n",
        "mauvaise phrase :)    "
       ]
      },
      {
       "output_type": "stream",
       "stream": "stdout",
       "text": [
        "\n",
        "mauvaise phrase 6."
       ]
      },
      {
       "output_type": "stream",
       "stream": "stdout",
       "text": [
        "\n",
        "mauvaise phrase 2."
       ]
      },
      {
       "output_type": "stream",
       "stream": "stdout",
       "text": [
        "\n",
        "mauvaise phrase 3."
       ]
      },
      {
       "output_type": "stream",
       "stream": "stdout",
       "text": [
        "\n",
        "mauvaise phrase 2."
       ]
      },
      {
       "output_type": "stream",
       "stream": "stdout",
       "text": [
        "\n",
        "mauvaise phrase * "
       ]
      },
      {
       "output_type": "stream",
       "stream": "stdout",
       "text": [
        "\n",
        "mauvaise phrase 3."
       ]
      },
      {
       "output_type": "stream",
       "stream": "stdout",
       "text": [
        "\n",
        "mauvaise phrase * "
       ]
      },
      {
       "output_type": "stream",
       "stream": "stdout",
       "text": [
        "\n",
        "mauvaise phrase 2."
       ]
      },
      {
       "output_type": "stream",
       "stream": "stdout",
       "text": [
        "\n",
        "mauvaise phrase 1."
       ]
      },
      {
       "output_type": "stream",
       "stream": "stdout",
       "text": [
        "\n",
        "mauvaise phrase 2."
       ]
      },
      {
       "output_type": "stream",
       "stream": "stdout",
       "text": [
        "\n",
        "mauvaise phrase 2."
       ]
      },
      {
       "output_type": "stream",
       "stream": "stdout",
       "text": [
        "\n",
        "mauvaise phrase 4."
       ]
      },
      {
       "output_type": "stream",
       "stream": "stdout",
       "text": [
        "\n",
        "mauvaise phrase *   "
       ]
      },
      {
       "output_type": "stream",
       "stream": "stdout",
       "text": [
        "\n",
        "mauvaise phrase 7."
       ]
      },
      {
       "output_type": "stream",
       "stream": "stdout",
       "text": [
        "\n",
        "mauvaise phrase * "
       ]
      },
      {
       "output_type": "stream",
       "stream": "stdout",
       "text": [
        "\n",
        "mauvaise phrase 2."
       ]
      },
      {
       "output_type": "stream",
       "stream": "stdout",
       "text": [
        "\n",
        "mauvaise phrase 5."
       ]
      },
      {
       "output_type": "stream",
       "stream": "stdout",
       "text": [
        "\n",
        "mauvaise phrase  *  "
       ]
      },
      {
       "output_type": "stream",
       "stream": "stdout",
       "text": [
        "\n",
        "mauvaise phrase !  "
       ]
      },
      {
       "output_type": "stream",
       "stream": "stdout",
       "text": [
        "\n",
        "mauvaise phrase A+   "
       ]
      },
      {
       "output_type": "stream",
       "stream": "stdout",
       "text": [
        "\n",
        "mauvaise phrase * "
       ]
      },
      {
       "output_type": "stream",
       "stream": "stdout",
       "text": [
        "\n",
        "mauvaise phrase 3."
       ]
      },
      {
       "output_type": "stream",
       "stream": "stdout",
       "text": [
        "\n",
        "mauvaise phrase ?"
       ]
      },
      {
       "output_type": "stream",
       "stream": "stdout",
       "text": [
        "\n",
        "mauvaise phrase 1."
       ]
      },
      {
       "output_type": "stream",
       "stream": "stdout",
       "text": [
        "\n",
        "mauvaise phrase  T  "
       ]
      },
      {
       "output_type": "stream",
       "stream": "stdout",
       "text": [
        "\n",
        "mauvaise phrase 3."
       ]
      },
      {
       "output_type": "stream",
       "stream": "stdout",
       "text": [
        "\n",
        "mauvaise phrase 2."
       ]
      },
      {
       "output_type": "stream",
       "stream": "stdout",
       "text": [
        "\n",
        "mauvaise phrase  !"
       ]
      },
      {
       "output_type": "stream",
       "stream": "stdout",
       "text": [
        "\n",
        "mauvaise phrase 2."
       ]
      },
      {
       "output_type": "stream",
       "stream": "stdout",
       "text": [
        "\n",
        "mauvaise phrase 3."
       ]
      },
      {
       "output_type": "stream",
       "stream": "stdout",
       "text": [
        "\n",
        "Wall time: 25min 46s"
       ]
      },
      {
       "output_type": "stream",
       "stream": "stdout",
       "text": [
        "\n"
       ]
      },
      {
       "metadata": {},
       "output_type": "pyout",
       "prompt_number": 6,
       "text": [
        "True"
       ]
      }
     ],
     "prompt_number": 6
    },
    {
     "cell_type": "heading",
     "level": 4,
     "metadata": {},
     "source": [
      "translating the subject"
     ]
    },
    {
     "cell_type": "code",
     "collapsed": false,
     "input": [
      "for e in Email.query.find().all():\n",
      "    gs = goslate.Goslate(timeout = 5)\n",
      "    try:\n",
      "        e.trans_subject = gs.translate(unicode(e.subject), 'en')\n",
      "    except:\n",
      "        e.trans_subject = e.subject\n",
      "        print 'mauvaise phrase '+ e.subject\n",
      "odm_session.flush()"
     ],
     "language": "python",
     "metadata": {},
     "outputs": [
      {
       "output_type": "stream",
       "stream": "stdout",
       "text": [
        "mauvaise phrase Hi\n"
       ]
      }
     ],
     "prompt_number": 16
    },
    {
     "cell_type": "heading",
     "level": 2,
     "metadata": {},
     "source": [
      "Predicting Sentence relevance"
     ]
    },
    {
     "cell_type": "code",
     "collapsed": false,
     "input": [
      "%run sentence_classifier.ipynb\n",
      "def predict_relevance(sentences):\n",
      "    for s in sentences:\n",
      "        if s.en_sentence != None:\n",
      "            s.pred_tag = is_relevant(s.en_sentence)[0]\n",
      "    odm_session.flush()\n",
      "sentences = Sentence.query.find().all()\n",
      "%time predict_relevance(sentences)"
     ],
     "language": "python",
     "metadata": {},
     "outputs": [
      {
       "output_type": "stream",
       "stream": "stdout",
       "text": [
        "DB correctly created/syncronized\n",
        "Wall time: 11.3 s"
       ]
      },
      {
       "output_type": "stream",
       "stream": "stdout",
       "text": [
        "\n"
       ]
      }
     ],
     "prompt_number": 64
    },
    {
     "cell_type": "heading",
     "level": 5,
     "metadata": {},
     "source": [
      "Testing:"
     ]
    },
    {
     "cell_type": "code",
     "collapsed": false,
     "input": [
      "num = 100\n",
      "print Email.query.find().all()[num].trans_body()\n",
      "print \"__________________________\"\n",
      "print Email.query.find().all()[num].relevant_body()\n"
     ],
     "language": "python",
     "metadata": {},
     "outputs": [
      {
       "output_type": "stream",
       "stream": "stdout",
       "text": [
        " What are the conditions of purchase (PPHT and delivery)? Could you tell us about your new distributor in France. Berray R\u00e9douane. +32 484 602 777 Madam, Our French distributor Bivea teaches us that it no longer distributes your products Euphia. Thank you in advance and good to you.\n",
        "__________________________\n",
        " What are the conditions of purchase (PPHT and delivery)? Could you tell us about your new distributor in France. Madam, Our French distributor Bivea teaches us that it no longer distributes your products Euphia."
       ]
      },
      {
       "output_type": "stream",
       "stream": "stdout",
       "text": [
        "\n"
       ]
      }
     ],
     "prompt_number": 85
    },
    {
     "cell_type": "heading",
     "level": 2,
     "metadata": {},
     "source": [
      "Stats on tagged Sentences"
     ]
    },
    {
     "cell_type": "code",
     "collapsed": false,
     "input": [
      "list_tags = Tag_Sent.query.find().all()\n",
      "nbr_tags = len(list_tags) - len(Tag_Sent.query.find({'tag' : ''}).all())\n",
      "print \"amount of tagged sentences \" + str(nbr_tags)\n",
      "corpus = []\n",
      "tags = []\n",
      "for s in Tag_Sent.query.find().all():\n",
      "    if s.tag == 'n' or s.tag == 'i' or s.tag == 'r':\n",
      "        corpus.append(s.trans_sentence)\n",
      "        tags.append(s.tag)\n",
      "\n",
      "import pandas as pd\n",
      "d = pd.DataFrame(tags, columns=['tags'])\n",
      "print d.tags.value_counts()/float(d.shape[0])"
     ],
     "language": "python",
     "metadata": {},
     "outputs": [
      {
       "output_type": "stream",
       "stream": "stdout",
       "text": [
        "amount of tagged sentences 643\n",
        "i    0.450915\n",
        "n    0.422629\n",
        "r    0.126456\n",
        "dtype: float64"
       ]
      },
      {
       "output_type": "stream",
       "stream": "stdout",
       "text": [
        "\n"
       ]
      }
     ],
     "prompt_number": 18
    },
    {
     "cell_type": "heading",
     "level": 2,
     "metadata": {},
     "source": [
      "Evaluation for sentences prediction"
     ]
    },
    {
     "cell_type": "code",
     "collapsed": false,
     "input": [
      "import nltk\n",
      "from sklearn.feature_extraction.text import CountVectorizer\n",
      "from sklearn.feature_extraction.text import TfidfVectorizer         \n",
      "from nltk.stem import WordNetLemmatizer \n",
      "\n",
      "class LemmaTokenizer(object):\n",
      "    def __init__(self):\n",
      "        self.wnl = WordNetLemmatizer()\n",
      "    def __call__(self, doc):\n",
      "        return [self.wnl.lemmatize(t) for t in nltk.word_tokenize(doc)]\n",
      "\n",
      "\n",
      "vectorizer = CountVectorizer(tokenizer = LemmaTokenizer(), ngram_range =(1,3))\n",
      "\n",
      "print vectorizer\n",
      "\n",
      "%time vectors = vectorizer.fit_transform(corpus)"
     ],
     "language": "python",
     "metadata": {},
     "outputs": [
      {
       "output_type": "stream",
       "stream": "stdout",
       "text": [
        "CountVectorizer(analyzer=word, binary=False, charset=None, charset_error=None,\n",
        "        decode_error=strict, dtype=<type 'numpy.int64'>, encoding=utf-8,\n",
        "        input=content, lowercase=True, max_df=1.0, max_features=None,\n",
        "        min_df=1, ngram_range=(1, 3), preprocessor=None, stop_words=None,\n",
        "        strip_accents=None, token_pattern=(?u)\\b\\w\\w+\\b,\n",
        "        tokenizer=<__main__.LemmaTokenizer object at 0x2021A310>,\n",
        "        vocabulary=None)\n",
        "Wall time: 245 ms"
       ]
      },
      {
       "output_type": "stream",
       "stream": "stdout",
       "text": [
        "\n"
       ]
      }
     ],
     "prompt_number": 19
    },
    {
     "cell_type": "code",
     "collapsed": false,
     "input": [
      "import numpy as np\n",
      "import sys\n",
      "from sklearn.cross_validation import ShuffleSplit\n",
      "from sklearn.naive_bayes import MultinomialNB\n",
      "from sklearn.svm import LinearSVC\n",
      "from sklearn.svm import SVC\n",
      "from sklearn.neighbors import KNeighborsClassifier\n",
      "from collections import defaultdict\n",
      "from sklearn.metrics import classification_report\n",
      "\n",
      "X = vectors\n",
      "y = np.array(tags)\n",
      "\n",
      "from sklearn import metrics\n",
      "\n",
      "cv = ShuffleSplit(len(corpus), n_iter=2, test_size=0.3, random_state=0)\n",
      "for cv_index, (train, test) in enumerate(cv):\n",
      "    print cv_index\n",
      "    sys.stdout.flush()\n",
      "    \n",
      "    gnb = LinearSVC().fit(X[train], y[train])\n",
      "    prediction = gnb.predict(X[test])\n",
      "                    \n",
      "    true = y[test]\n",
      "    print classification_report (true, prediction)\n",
      "    \n",
      "    \n",
      "    \n",
      "    "
     ],
     "language": "python",
     "metadata": {},
     "outputs": [
      {
       "output_type": "stream",
       "stream": "stdout",
       "text": [
        "0\n"
       ]
      },
      {
       "output_type": "stream",
       "stream": "stdout",
       "text": [
        "             precision    recall  f1-score   support\n",
        "\n",
        "          i       0.75      0.84      0.79        79\n",
        "          n       0.80      0.82      0.81        77\n",
        "          r       0.93      0.52      0.67        25\n",
        "\n",
        "avg / total       0.79      0.78      0.78       181\n",
        "\n",
        "1\n"
       ]
      },
      {
       "output_type": "stream",
       "stream": "stdout",
       "text": [
        "             precision    recall  f1-score   support\n",
        "\n",
        "          i       0.76      0.70      0.73        77\n",
        "          n       0.74      0.81      0.78        85\n",
        "          r       0.88      0.79      0.83        19\n",
        "\n",
        "avg / total       0.76      0.76      0.76       181\n",
        "\n"
       ]
      }
     ],
     "prompt_number": 20
    },
    {
     "cell_type": "code",
     "collapsed": false,
     "input": [],
     "language": "python",
     "metadata": {},
     "outputs": []
    }
   ],
   "metadata": {}
  }
 ]
}
{
 "metadata": {
  "name": "",
  "signature": "sha256:0fb964916322c881dad4762d2b3748f480ad4dd54b81ff29b4db082fb6dbf915"
 },
 "nbformat": 3,
 "nbformat_minor": 0,
 "worksheets": [
  {
   "cells": [
    {
     "cell_type": "heading",
     "level": 1,
     "metadata": {},
     "source": [
      "Tokenisation of the Sentences, storing these as Object in DB and training for Intent attribution"
     ]
    },
    {
     "cell_type": "heading",
     "level": 2,
     "metadata": {},
     "source": [
      "Tokenisation of the Sentences and storing"
     ]
    },
    {
     "cell_type": "code",
     "collapsed": false,
     "input": [
      "import nltk.data\n",
      "import re\n",
      "%run db_link.ipynb\n",
      "def sentinator(mails):\n",
      "    for m in mails:\n",
      "        msg = m.trans_body\n",
      "        sent_detector = nltk.data.load('tokenizers/punkt/english.pickle')\n",
      "        sentences = sent_detector.tokenize(msg.strip())\n",
      "        for s in sentences:\n",
      "            s = re.sub('<start>', '', s, flags = re.DOTALL)\n",
      "            s = re.sub('<deleted signature>', '', s, flags = re.DOTALL)\n",
      "            s = re.sub('<deleted transfered header>', '', s, flags = re.DOTALL)\n",
      "            s = re.sub('<deleted redundant message>', '', s, flags = re.DOTALL)\n",
      "            s = re.sub('<end>', '', s, flags = re.DOTALL)\n",
      "            s = re.sub('<\\\\>', '', s, flags = re.DOTALL)\n",
      "            s = re.sub('<\\\\\\\\>', '', s, flags = re.DOTALL)\n",
      "            s = re.sub('<useless>', '', s, flags = re.DOTALL)\n",
      "            sent = Tag_Sent(sentence = s, tag = '', email = m)\n",
      "    odm_session.flush()\n",
      "    print str(len(Tag_Sent.query.find().all())) + ' Sentences found and stored'\n",
      "    return True"
     ],
     "language": "python",
     "metadata": {},
     "outputs": [],
     "prompt_number": 25
    },
    {
     "cell_type": "markdown",
     "metadata": {},
     "source": [
      "for t in Tag_Sent.query.find().all():\n",
      "    t.delete()\n",
      "odm_session.flush()"
     ]
    },
    {
     "cell_type": "markdown",
     "metadata": {},
     "source": [
      "print Tag_Sent.query.find().all()"
     ]
    },
    {
     "cell_type": "code",
     "collapsed": false,
     "input": [
      "mails = Email.query.find().all()\n",
      "%time sentinator(mails)   "
     ],
     "language": "python",
     "metadata": {},
     "outputs": [
      {
       "output_type": "stream",
       "stream": "stdout",
       "text": [
        "Wall time: 1.48 s\n"
       ]
      },
      {
       "metadata": {},
       "output_type": "pyout",
       "prompt_number": 20,
       "text": [
        "True"
       ]
      }
     ],
     "prompt_number": 20
    },
    {
     "cell_type": "heading",
     "level": 2,
     "metadata": {},
     "source": [
      "Tagging the sentences for Intent"
     ]
    },
    {
     "cell_type": "code",
     "collapsed": false,
     "input": [
      "def tagger(sents):\n",
      "    for s in sents:\n",
      "        print s.sentence\n",
      "        tag = raw_input('tag :')\n",
      "        if tag == 'stop':\n",
      "            break\n",
      "        s.tag = tag\n",
      "        odm_session.flush()\n",
      "    print \"on s'arr\u00eate ici!\"\n",
      "    return s.email._id"
     ],
     "language": "python",
     "metadata": {},
     "outputs": [],
     "prompt_number": 26
    },
    {
     "cell_type": "code",
     "collapsed": false,
     "input": [
      "tag_sent = Tag_Sent.query.find({'tag' : ''}).all()\n",
      "%time tagger(tag_sent)"
     ],
     "language": "python",
     "metadata": {},
     "outputs": [
      {
       "output_type": "stream",
       "stream": "stdout",
       "text": [
        "A notre premi\u00e8re r\u00e9union de la semaine prochaine, je vous transmettrais la fa\u00e7on dont je vois les choses, et nous \u00e9tablirons ensemble notre ligne de Pensez-vous que nous pourrions faire une r\u00e9union lundi 12h?\n"
       ]
      },
      {
       "name": "stdout",
       "output_type": "stream",
       "stream": "stdout",
       "text": [
        "tag :m\n"
       ]
      },
      {
       "output_type": "stream",
       "stream": "stdout",
       "text": [
        "3)      Devons nous poser une \u00e9tiquette d'identification sur le display film\u00e9 avant la palettisation ?\n"
       ]
      },
      {
       "name": "stdout",
       "output_type": "stream",
       "stream": "stdout",
       "text": [
        "tag :r\n"
       ]
      },
      {
       "output_type": "stream",
       "stream": "stdout",
       "text": [
        " Non, pas de soucis, je vais le faire alors.\n"
       ]
      },
      {
       "name": "stdout",
       "output_type": "stream",
       "stream": "stdout",
       "text": [
        "tag :t\n"
       ]
      },
      {
       "output_type": "stream",
       "stream": "stdout",
       "text": [
        "Wij zullen zorgen voor de levering van onze advertentie tegen 8 september* *       \n"
       ]
      },
      {
       "name": "stdout",
       "output_type": "stream",
       "stream": "stdout",
       "text": [
        "tag :t\n"
       ]
      },
      {
       "output_type": "stream",
       "stream": "stdout",
       "text": [
        "En revanche, comme je ne veux surtout pas interf\u00e9rer dans ton travail, je te propose que tu me dises ce que tu voudrais, je n\u00e9gocie avec lui les grandes lignes, puis je te passe le dossier, et te laisse te charger de toutes les commandes au fil des conf\u00e9rences.\n"
       ]
      },
      {
       "name": "stdout",
       "output_type": "stream",
       "stream": "stdout",
       "text": [
        "tag :stop\n"
       ]
      },
      {
       "output_type": "stream",
       "stream": "stdout",
       "text": [
        "on s'arr\u00eate ici!\n",
        "Wall time: 31.8 s\n"
       ]
      },
      {
       "metadata": {},
       "output_type": "pyout",
       "prompt_number": 27,
       "text": [
        "ObjectId('534bdb4c9f680a1a5417b0db')"
       ]
      }
     ],
     "prompt_number": 27
    },
    {
     "cell_type": "heading",
     "level": 2,
     "metadata": {},
     "source": [
      "Stats on tagged Sentences"
     ]
    },
    {
     "cell_type": "code",
     "collapsed": false,
     "input": [
      "tags = []\n",
      "list_tags = Tag_Sent.query.find().all()\n",
      "nbr_tags = len(list_tags) - len(Tag_Sent.query.find({'tag' : ''}).all())\n",
      "print \"amount of tagged sentences \" + str(nbr_tags)\n",
      "for t in list_tags:\n",
      "    tags.append(t.tag)\n",
      "\n",
      "import pandas as pd\n",
      "d = pd.DataFrame(tags, columns=['tags'])\n",
      "print d.tags.value_counts()/float(d.shape[0])"
     ],
     "language": "python",
     "metadata": {},
     "outputs": [
      {
       "output_type": "stream",
       "stream": "stdout",
       "text": [
        "amount of tagged sentences 261\n",
        "     0.944278\n",
        "i    0.026046\n",
        "n    0.020922\n",
        "r    0.005764\n",
        "t    0.002775\n",
        "m    0.000213\n",
        "dtype: float64"
       ]
      },
      {
       "output_type": "stream",
       "stream": "stdout",
       "text": [
        "\n"
       ]
      }
     ],
     "prompt_number": 24
    }
   ],
   "metadata": {}
  }
 ]
}
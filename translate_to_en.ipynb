{
 "metadata": {
  "name": "",
  "signature": "sha256:7e239cb33190204307e247e0b5bd9f3a6c4d657975f68984025747d061608eb5"
 },
 "nbformat": 3,
 "nbformat_minor": 0,
 "worksheets": [
  {
   "cells": [
    {
     "cell_type": "heading",
     "level": 1,
     "metadata": {},
     "source": [
      "Module that's automatically detects and translates an raw text_input into english"
     ]
    },
    {
     "cell_type": "code",
     "collapsed": false,
     "input": [
      "import goslate\n",
      "\n",
      "def translate_to_en(text):\n",
      "    gs = goslate.Goslate()\n",
      "    t = gs.translate(text, 'en')\n",
      "    return t"
     ],
     "language": "python",
     "metadata": {},
     "outputs": [],
     "prompt_number": 2
    },
    {
     "cell_type": "code",
     "collapsed": false,
     "input": [],
     "language": "python",
     "metadata": {},
     "outputs": []
    }
   ],
   "metadata": {}
  }
 ]
}